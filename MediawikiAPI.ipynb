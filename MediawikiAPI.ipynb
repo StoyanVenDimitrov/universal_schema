{
 "cells": [
  {
   "cell_type": "code",
   "execution_count": 28,
   "metadata": {
    "tags": []
   },
   "outputs": [
    {
     "output_type": "execute_result",
     "data": {
      "text/plain": [
       "3"
      ]
     },
     "metadata": {},
     "execution_count": 28
    }
   ],
   "source": [
    "\n",
    "\"\"\"\n",
    "    search.py\n",
    "\n",
    "    MediaWiki API Demos\n",
    "    Demo of `Search` module: Search for a text or title\n",
    "\n",
    "    MIT License\n",
    "\"\"\"\n",
    "\n",
    "import requests\n",
    "from xml.etree import ElementTree\n",
    "from bs4 import BeautifulSoup\n",
    "\n",
    "S = requests.Session()\n",
    "\n",
    "URL = \"https://en.wikipedia.org/w/api.php\"\n",
    "\n",
    "SEARCHPAGE = \"matrix\"\n",
    "\n",
    "PARAMS = {\n",
    "    \"action\": \"query\",\n",
    "    \"format\": \"json\",\n",
    "    \"list\": \"search\",\n",
    "    \"srsearch\": SEARCHPAGE,\n",
    "    \"indexpageids\":True,\n",
    "    \"srlimit\": 1000\n",
    "}"
   ]
  },
  {
   "cell_type": "code",
   "execution_count": 25,
   "metadata": {
    "tags": []
   },
   "outputs": [
    {
     "output_type": "stream",
     "name": "stdout",
     "text": [
      "[{'ns': 0, 'title': 'Master boot record', 'pageid': 24782330, 'size': 100802, 'wordcount': 8582, 'snippet': 'the first physical <span class=\"searchmatch\">2</span>\\xa0TiB of a disk in both partitioning schemes &quot;in parallel&quot; and/or to allow older operating systems to boot off <span class=\"searchmatch\">GPT</span> partitions as well', 'timestamp': '2020-11-17T14:45:02Z'}]\n",
      "the first physical 2 TiB of a disk in both partitioning schemes \"in parallel\" and/or to allow older operating systems to boot off GPT partitions as well\n",
      "##################\n",
      "[{'ns': 0, 'title': 'Microsoft basic data partition', 'pageid': 5377625, 'size': 3261, 'wordcount': 295, 'snippet': 'Partition Table (<span class=\"searchmatch\">GPT</span>) layout, a basic data partition (BDP) is any partition identified with Globally Unique Identifier (GUID) of EBD0A0A<span class=\"searchmatch\">2</span>-B9E5-4433-87C0-68B6B72699C7', 'timestamp': '2020-09-03T02:40:55Z'}]\n",
      "Partition Table (GPT) layout, a basic data partition (BDP) is any partition identified with Globally Unique Identifier (GUID) of EBD0A0A2-B9E5-4433-87C0-68B6B72699C7\n",
      "##################\n",
      "[{'ns': 0, 'title': 'Ext4', 'pageid': 5767923, 'size': 32405, 'wordcount': 3208, 'snippet': 'and Windows in UEFI-<span class=\"searchmatch\">GPT</span> setup. The new GUID (Linux filesystem data: 0FC63DAF-8483-4772-8E79-3D69D8477DE4) was defined jointly by <span class=\"searchmatch\">GPT</span> fdisk and GNU Parted', 'timestamp': '2020-12-18T10:43:18Z'}]\n",
      "and Windows in UEFI-GPT setup. The new GUID (Linux filesystem data: 0FC63DAF-8483-4772-8E79-3D69D8477DE4) was defined jointly by GPT fdisk and GNU Parted\n",
      "##################\n",
      "[{'ns': 0, 'title': 'EFI system partition', 'pageid': 5366082, 'size': 10645, 'wordcount': 1255, 'snippet': 'Table (<span class=\"searchmatch\">GPT</span>) scheme is C12A7328-F81F-11D<span class=\"searchmatch\">2</span>-BA4B-00A0C93EC93B, while its ID in the master boot record (MBR) partition-table scheme is 0xEF. Both <span class=\"searchmatch\">GPT</span>- and MBR-partitioned', 'timestamp': '2020-12-16T00:43:02Z'}]\n",
      "Table (GPT) scheme is C12A7328-F81F-11D2-BA4B-00A0C93EC93B, while its ID in the master boot record (MBR) partition-table scheme is 0xEF. Both GPT- and MBR-partitioned\n",
      "##################\n",
      "[{'ns': 0, 'title': 'Marconi Communications', 'pageid': 1510480, 'size': 13182, 'wordcount': 1345, 'snippet': 'August 1998 through the amalgamation of GEC Plessey Telecommunications (<span class=\"searchmatch\">GPT</span>) with other GEC subsidiaries: Marconi SpA, GEC Hong Kong, and ATC South Africa', 'timestamp': '2021-01-03T00:00:01Z'}]\n",
      "August 1998 through the amalgamation of GEC Plessey Telecommunications (GPT) with other GEC subsidiaries: Marconi SpA, GEC Hong Kong, and ATC South Africa\n",
      "##################\n",
      "[{'ns': 0, 'title': 'Highpoint Shopping Centre', 'pageid': 3389418, 'size': 6857, 'wordcount': 650, 'snippet': 'the <span class=\"searchmatch\">GPT</span> (General Property Trust) Group purchased a 50% stake and management rights in the centre for about A$621.<span class=\"searchmatch\">2</span> million. In September 2017, <span class=\"searchmatch\">GPT</span> bought', 'timestamp': '2020-05-30T02:49:47Z'}]\n",
      "the GPT (General Property Trust) Group purchased a 50% stake and management rights in the centre for about A$621.2 million. In September 2017, GPT bought\n",
      "##################\n",
      "[{'ns': 0, 'title': 'Highpoint Shopping Centre', 'pageid': 3389418, 'size': 6857, 'wordcount': 650, 'snippet': 'the <span class=\"searchmatch\">GPT</span> (General Property Trust) Group purchased a 50% stake and management rights in the centre for about A$621.<span class=\"searchmatch\">2</span> million. In September 2017, <span class=\"searchmatch\">GPT</span> bought', 'timestamp': '2020-05-30T02:49:47Z'}]\n",
      "the GPT (General Property Trust) Group purchased a 50% stake and management rights in the centre for about A$621.2 million. In September 2017, GPT bought\n",
      "##################\n",
      "[{'ns': 0, 'title': 'GNU GRUB', 'pageid': 287817, 'size': 31155, 'wordcount': 3280, 'snippet': 'drivers, <span class=\"searchmatch\">GPT</span> or LVM disk) the install of stage 1.5 will fail. The stage 1.5 image contains file system drivers, enabling it to directly load stage <span class=\"searchmatch\">2</span> from', 'timestamp': '2020-12-20T16:07:54Z'}]\n",
      "drivers, GPT or LVM disk) the install of stage 1.5 will fail. The stage 1.5 image contains file system drivers, enabling it to directly load stage 2 from\n",
      "##################\n",
      "[{'ns': 0, 'title': 'GNU GRUB', 'pageid': 287817, 'size': 31155, 'wordcount': 3280, 'snippet': 'drivers, <span class=\"searchmatch\">GPT</span> or LVM disk) the install of stage 1.5 will fail. The stage 1.5 image contains file system drivers, enabling it to directly load stage <span class=\"searchmatch\">2</span> from', 'timestamp': '2020-12-20T16:07:54Z'}]\n",
      "drivers, GPT or LVM disk) the install of stage 1.5 will fail. The stage 1.5 image contains file system drivers, enabling it to directly load stage 2 from\n",
      "##################\n",
      "[{'ns': 0, 'title': 'Jason Rohrer', 'pageid': 1298881, 'size': 16000, 'wordcount': 1568, 'snippet': 'evolution system. Project December, an online conversation AI using <span class=\"searchmatch\">GPT</span>-<span class=\"searchmatch\">2</span> and <span class=\"searchmatch\">GPT</span>-3 technology. &quot;Jason Rohrer Releases iPhone Puzzler Primrose&quot;. Fingergaming', 'timestamp': '2020-12-23T14:12:31Z'}]\n",
      "evolution system. Project December, an online conversation AI using GPT-2 and GPT-3 technology. \"Jason Rohrer Releases iPhone Puzzler Primrose\". Fingergaming\n",
      "##################\n",
      "[{'ns': 0, 'title': 'Disk partitioning', 'pageid': 55380, 'size': 15032, 'wordcount': 1660, 'snippet': 'table (<span class=\"searchmatch\">GPT</span>) only has the primary partition, doesn\\'t have the extended partition and the logical partition. With DOS, Microsoft Windows, and OS/<span class=\"searchmatch\">2</span>, a common', 'timestamp': '2020-12-20T23:50:01Z'}]\n",
      "table (GPT) only has the primary partition, doesn't have the extended partition and the logical partition. With DOS, Microsoft Windows, and OS/2, a common\n",
      "##################\n",
      "[{'ns': 0, 'title': 'GEC Plessey Telecommunications', 'pageid': 1510489, 'size': 7969, 'wordcount': 688, 'snippet': 'GEC Plessey Telecommunications (<span class=\"searchmatch\">GPT</span>) was a British manufacturer of telecommunications equipment, notably the System X telephone exchange. The company', 'timestamp': '2020-12-13T10:48:22Z'}]\n",
      "GEC Plessey Telecommunications (GPT) was a British manufacturer of telecommunications equipment, notably the System X telephone exchange. The company\n",
      "##################\n",
      "[{'ns': 0, 'title': 'List of largest shopping centres in Australia', 'pageid': 14016091, 'size': 41868, 'wordcount': 1174, 'snippet': 'Property Fund World 1 September 2016 &quot;Highpoint Shopping Centre&quot;. Sydney: <span class=\"searchmatch\">GPT</span> Group. Retrieved 8 December 2014. &quot;Highpoint Shopping Centre expansion&quot;.', 'timestamp': '2021-01-02T02:23:23Z'}]\n",
      "Property Fund World 1 September 2016 \"Highpoint Shopping Centre\". Sydney: GPT Group. Retrieved 8 December 2014. \"Highpoint Shopping Centre expansion\".\n",
      "##################\n",
      "[{'ns': 0, 'title': 'GEC Plessey Telecommunications', 'pageid': 1510489, 'size': 7969, 'wordcount': 688, 'snippet': 'GEC Plessey Telecommunications (<span class=\"searchmatch\">GPT</span>) was a British manufacturer of telecommunications equipment, notably the System X telephone exchange. The company', 'timestamp': '2020-12-13T10:48:22Z'}]\n",
      "GEC Plessey Telecommunications (GPT) was a British manufacturer of telecommunications equipment, notably the System X telephone exchange. The company\n",
      "##################\n",
      "[{'ns': 0, 'title': 'GEC Plessey Telecommunications', 'pageid': 1510489, 'size': 7969, 'wordcount': 688, 'snippet': 'GEC Plessey Telecommunications (<span class=\"searchmatch\">GPT</span>) was a British manufacturer of telecommunications equipment, notably the System X telephone exchange. The company', 'timestamp': '2020-12-13T10:48:22Z'}]\n",
      "GEC Plessey Telecommunications (GPT) was a British manufacturer of telecommunications equipment, notably the System X telephone exchange. The company\n",
      "##################\n",
      "[{'ns': 0, 'title': 'Melbourne Central Shopping Centre', 'pageid': 4715801, 'size': 17686, 'wordcount': 1711, 'snippet': 'gross leasable area of 55,100 square metres (593,000\\xa0sq\\xa0ft). It is owned by <span class=\"searchmatch\">GPT</span> Group. Contained underneath the shopping centre\\'s massive glass cone sits', 'timestamp': '2020-10-25T12:47:01Z'}]\n",
      "gross leasable area of 55,100 square metres (593,000 sq ft). It is owned by GPT Group. Contained underneath the shopping centre's massive glass cone sits\n",
      "##################\n",
      "[{'ns': 0, 'title': 'Windows Vista', 'pageid': 2289648, 'size': 147604, 'wordcount': 15249, 'snippet': 'TechNet. Microsoft. February 5, 2008. Retrieved March 17, 2016. &quot;Windows and <span class=\"searchmatch\">GPT</span> FAQ&quot;. MSDN. Microsoft. June 15, 2011. Retrieved February 4, 2012. It is possible', 'timestamp': '2021-01-03T21:42:26Z'}]\n",
      "TechNet. Microsoft. February 5, 2008. Retrieved March 17, 2016. \"Windows and GPT FAQ\". MSDN. Microsoft. June 15, 2011. Retrieved February 4, 2012. It is possible\n",
      "##################\n",
      "[{'ns': 0, 'title': 'CT2', 'pageid': 8217872, 'size': 9203, 'wordcount': 1233, 'snippet': 'Ferranti, <span class=\"searchmatch\">GPT</span>, and Motorola, which at the time manufactured CT<span class=\"searchmatch\">2</span> equipment for the Singapore and Hong Kong markets. <span class=\"searchmatch\">GPT</span> and Motorola both provided CT<span class=\"searchmatch\">2</span> equipment', 'timestamp': '2020-04-08T18:34:30Z'}]\n",
      "Ferranti, GPT, and Motorola, which at the time manufactured CT2 equipment for the Singapore and Hong Kong markets. GPT and Motorola both provided CT2 equipment\n",
      "##################\n",
      "[{'ns': 0, 'title': 'CT2', 'pageid': 8217872, 'size': 9203, 'wordcount': 1233, 'snippet': 'Ferranti, <span class=\"searchmatch\">GPT</span>, and Motorola, which at the time manufactured CT<span class=\"searchmatch\">2</span> equipment for the Singapore and Hong Kong markets. <span class=\"searchmatch\">GPT</span> and Motorola both provided CT<span class=\"searchmatch\">2</span> equipment', 'timestamp': '2020-04-08T18:34:30Z'}]\n",
      "Ferranti, GPT, and Motorola, which at the time manufactured CT2 equipment for the Singapore and Hong Kong markets. GPT and Motorola both provided CT2 equipment\n",
      "##################\n",
      "[{'ns': 0, 'title': 'List of human protein-coding genes 2', 'pageid': 62209456, 'size': 283713, 'wordcount': 17, 'snippet': 'GPSM<span class=\"searchmatch\">2</span> HGNC:29501 P81274 6616 GPSM3 HGNC:13945 Q9Y4H4 6617 <span class=\"searchmatch\">GPT</span> HGNC:4552 P24298 6618 <span class=\"searchmatch\">GPT</span><span class=\"searchmatch\">2</span> HGNC:18062 Q8TD30 6619 GPX1 HGNC:4553 P07203 6620 GPX<span class=\"searchmatch\">2</span> HGNC:4554', 'timestamp': '2020-11-11T15:27:49Z'}]\n",
      "GPSM2 HGNC:29501 P81274 6616 GPSM3 HGNC:13945 Q9Y4H4 6617 GPT HGNC:4552 P24298 6618 GPT2 HGNC:18062 Q8TD30 6619 GPX1 HGNC:4553 P07203 6620 GPX2 HGNC:4554\n",
      "##################\n",
      "[{'ns': 0, 'title': 'CT2', 'pageid': 8217872, 'size': 9203, 'wordcount': 1233, 'snippet': 'Ferranti, <span class=\"searchmatch\">GPT</span>, and Motorola, which at the time manufactured CT<span class=\"searchmatch\">2</span> equipment for the Singapore and Hong Kong markets. <span class=\"searchmatch\">GPT</span> and Motorola both provided CT<span class=\"searchmatch\">2</span> equipment', 'timestamp': '2020-04-08T18:34:30Z'}]\n",
      "Ferranti, GPT, and Motorola, which at the time manufactured CT2 equipment for the Singapore and Hong Kong markets. GPT and Motorola both provided CT2 equipment\n",
      "##################\n",
      "[{'ns': 0, 'title': 'Rumination (psychology)', 'pageid': 18635044, 'size': 28631, 'wordcount': 3352, 'snippet': 'depression. Goal progress theory (<span class=\"searchmatch\">GPT</span>) seeks to explain rumination as a function of goal progress. Specifically, <span class=\"searchmatch\">GPT</span> views rumination as an example of', 'timestamp': '2020-12-26T10:40:39Z'}]\n",
      "depression. Goal progress theory (GPT) seeks to explain rumination as a function of goal progress. Specifically, GPT views rumination as an example of\n",
      "##################\n",
      "[{'ns': 0, 'title': 'Yejin Choi', 'pageid': 65472331, 'size': 7250, 'wordcount': 613, 'snippet': 'creation of atomic, the language model generative Pre-trained Transformer <span class=\"searchmatch\">2</span> (<span class=\"searchmatch\">GPT</span>-<span class=\"searchmatch\">2</span>) had been released. ATOMIC does not make use of linguistic rules, but combines', 'timestamp': '2020-12-31T22:08:23Z'}]\n",
      "creation of atomic, the language model generative Pre-trained Transformer 2 (GPT-2) had been released. ATOMIC does not make use of linguistic rules, but combines\n",
      "##################\n",
      "[{'ns': 0, 'title': 'Rumination (psychology)', 'pageid': 18635044, 'size': 28631, 'wordcount': 3352, 'snippet': 'depression. Goal progress theory (<span class=\"searchmatch\">GPT</span>) seeks to explain rumination as a function of goal progress. Specifically, <span class=\"searchmatch\">GPT</span> views rumination as an example of', 'timestamp': '2020-12-26T10:40:39Z'}]\n",
      "depression. Goal progress theory (GPT) seeks to explain rumination as a function of goal progress. Specifically, GPT views rumination as an example of\n",
      "##################\n",
      "[{'ns': 0, 'title': 'David Chalmers', 'pageid': 258221, 'size': 23465, 'wordcount': 2460, 'snippet': 'Justin, ed. (30 July 2020). &quot;<span class=\"searchmatch\">GPT</span>-3 and General Intelligence&quot;. Daily Nous. Philosophers On <span class=\"searchmatch\">GPT</span>-3 (updated with replies by <span class=\"searchmatch\">GPT</span>-3). Retrieved 31 July 2020', 'timestamp': '2020-12-15T21:58:44Z'}]\n",
      "Justin, ed. (30 July 2020). \"GPT-3 and General Intelligence\". Daily Nous. Philosophers On GPT-3 (updated with replies by GPT-3). Retrieved 31 July 2020\n",
      "##################\n",
      "[{'ns': 0, 'title': 'Goniopora toxin', 'pageid': 55485749, 'size': 7430, 'wordcount': 912, 'snippet': 'Goniopora toxin (<span class=\"searchmatch\">GPT</span>) is a polypeptide toxin from the marine Goniopora species coral. Two toxins from this source have been identified, one acting on', 'timestamp': '2020-04-16T22:48:53Z'}]\n",
      "Goniopora toxin (GPT) is a polypeptide toxin from the marine Goniopora species coral. Two toxins from this source have been identified, one acting on\n",
      "##################\n"
     ]
    },
    {
     "output_type": "error",
     "ename": "KeyboardInterrupt",
     "evalue": "",
     "traceback": [
      "\u001b[0;31m---------------------------------------------------------------------------\u001b[0m",
      "\u001b[0;31mKeyboardInterrupt\u001b[0m                         Traceback (most recent call last)",
      "\u001b[0;32m<ipython-input-25-6427c339e5b7>\u001b[0m in \u001b[0;36m<module>\u001b[0;34m\u001b[0m\n\u001b[1;32m      1\u001b[0m \u001b[0;32mwhile\u001b[0m \u001b[0;32mTrue\u001b[0m\u001b[0;34m:\u001b[0m\u001b[0;34m\u001b[0m\u001b[0;34m\u001b[0m\u001b[0m\n\u001b[0;32m----> 2\u001b[0;31m     \u001b[0mR\u001b[0m \u001b[0;34m=\u001b[0m \u001b[0mS\u001b[0m\u001b[0;34m.\u001b[0m\u001b[0mget\u001b[0m\u001b[0;34m(\u001b[0m\u001b[0murl\u001b[0m\u001b[0;34m=\u001b[0m\u001b[0mURL\u001b[0m\u001b[0;34m,\u001b[0m \u001b[0mparams\u001b[0m\u001b[0;34m=\u001b[0m\u001b[0mPARAMS\u001b[0m\u001b[0;34m)\u001b[0m\u001b[0;34m.\u001b[0m\u001b[0mjson\u001b[0m\u001b[0;34m(\u001b[0m\u001b[0;34m)\u001b[0m\u001b[0;34m\u001b[0m\u001b[0;34m\u001b[0m\u001b[0m\n\u001b[0m\u001b[1;32m      3\u001b[0m     \u001b[0mprint\u001b[0m \u001b[0;34m(\u001b[0m\u001b[0mR\u001b[0m\u001b[0;34m[\u001b[0m\u001b[0;34m'query'\u001b[0m\u001b[0;34m]\u001b[0m\u001b[0;34m[\u001b[0m\u001b[0;34m'search'\u001b[0m\u001b[0;34m]\u001b[0m\u001b[0;34m)\u001b[0m\u001b[0;31m#(len(R['query']['search'][0]['snippet']))\u001b[0m\u001b[0;34m\u001b[0m\u001b[0;34m\u001b[0m\u001b[0m\n\u001b[1;32m      4\u001b[0m     \u001b[0msoup\u001b[0m \u001b[0;34m=\u001b[0m \u001b[0mBeautifulSoup\u001b[0m\u001b[0;34m(\u001b[0m\u001b[0mR\u001b[0m\u001b[0;34m[\u001b[0m\u001b[0;34m'query'\u001b[0m\u001b[0;34m]\u001b[0m\u001b[0;34m[\u001b[0m\u001b[0;34m'search'\u001b[0m\u001b[0;34m]\u001b[0m\u001b[0;34m[\u001b[0m\u001b[0;36m0\u001b[0m\u001b[0;34m]\u001b[0m\u001b[0;34m[\u001b[0m\u001b[0;34m'snippet'\u001b[0m\u001b[0;34m]\u001b[0m\u001b[0;34m)\u001b[0m\u001b[0;34m\u001b[0m\u001b[0;34m\u001b[0m\u001b[0m\n\u001b[1;32m      5\u001b[0m     \u001b[0mprint\u001b[0m\u001b[0;34m(\u001b[0m\u001b[0msoup\u001b[0m\u001b[0;34m.\u001b[0m\u001b[0mget_text\u001b[0m\u001b[0;34m(\u001b[0m\u001b[0;34m)\u001b[0m\u001b[0;34m)\u001b[0m\u001b[0;34m\u001b[0m\u001b[0;34m\u001b[0m\u001b[0m\n",
      "\u001b[0;32m~/opt/anaconda3/lib/python3.8/site-packages/requests/sessions.py\u001b[0m in \u001b[0;36mget\u001b[0;34m(self, url, **kwargs)\u001b[0m\n\u001b[1;32m    541\u001b[0m \u001b[0;34m\u001b[0m\u001b[0m\n\u001b[1;32m    542\u001b[0m         \u001b[0mkwargs\u001b[0m\u001b[0;34m.\u001b[0m\u001b[0msetdefault\u001b[0m\u001b[0;34m(\u001b[0m\u001b[0;34m'allow_redirects'\u001b[0m\u001b[0;34m,\u001b[0m \u001b[0;32mTrue\u001b[0m\u001b[0;34m)\u001b[0m\u001b[0;34m\u001b[0m\u001b[0;34m\u001b[0m\u001b[0m\n\u001b[0;32m--> 543\u001b[0;31m         \u001b[0;32mreturn\u001b[0m \u001b[0mself\u001b[0m\u001b[0;34m.\u001b[0m\u001b[0mrequest\u001b[0m\u001b[0;34m(\u001b[0m\u001b[0;34m'GET'\u001b[0m\u001b[0;34m,\u001b[0m \u001b[0murl\u001b[0m\u001b[0;34m,\u001b[0m \u001b[0;34m**\u001b[0m\u001b[0mkwargs\u001b[0m\u001b[0;34m)\u001b[0m\u001b[0;34m\u001b[0m\u001b[0;34m\u001b[0m\u001b[0m\n\u001b[0m\u001b[1;32m    544\u001b[0m \u001b[0;34m\u001b[0m\u001b[0m\n\u001b[1;32m    545\u001b[0m     \u001b[0;32mdef\u001b[0m \u001b[0moptions\u001b[0m\u001b[0;34m(\u001b[0m\u001b[0mself\u001b[0m\u001b[0;34m,\u001b[0m \u001b[0murl\u001b[0m\u001b[0;34m,\u001b[0m \u001b[0;34m**\u001b[0m\u001b[0mkwargs\u001b[0m\u001b[0;34m)\u001b[0m\u001b[0;34m:\u001b[0m\u001b[0;34m\u001b[0m\u001b[0;34m\u001b[0m\u001b[0m\n",
      "\u001b[0;32m~/opt/anaconda3/lib/python3.8/site-packages/requests/sessions.py\u001b[0m in \u001b[0;36mrequest\u001b[0;34m(self, method, url, params, data, headers, cookies, files, auth, timeout, allow_redirects, proxies, hooks, stream, verify, cert, json)\u001b[0m\n\u001b[1;32m    528\u001b[0m         }\n\u001b[1;32m    529\u001b[0m         \u001b[0msend_kwargs\u001b[0m\u001b[0;34m.\u001b[0m\u001b[0mupdate\u001b[0m\u001b[0;34m(\u001b[0m\u001b[0msettings\u001b[0m\u001b[0;34m)\u001b[0m\u001b[0;34m\u001b[0m\u001b[0;34m\u001b[0m\u001b[0m\n\u001b[0;32m--> 530\u001b[0;31m         \u001b[0mresp\u001b[0m \u001b[0;34m=\u001b[0m \u001b[0mself\u001b[0m\u001b[0;34m.\u001b[0m\u001b[0msend\u001b[0m\u001b[0;34m(\u001b[0m\u001b[0mprep\u001b[0m\u001b[0;34m,\u001b[0m \u001b[0;34m**\u001b[0m\u001b[0msend_kwargs\u001b[0m\u001b[0;34m)\u001b[0m\u001b[0;34m\u001b[0m\u001b[0;34m\u001b[0m\u001b[0m\n\u001b[0m\u001b[1;32m    531\u001b[0m \u001b[0;34m\u001b[0m\u001b[0m\n\u001b[1;32m    532\u001b[0m         \u001b[0;32mreturn\u001b[0m \u001b[0mresp\u001b[0m\u001b[0;34m\u001b[0m\u001b[0;34m\u001b[0m\u001b[0m\n",
      "\u001b[0;32m~/opt/anaconda3/lib/python3.8/site-packages/requests/sessions.py\u001b[0m in \u001b[0;36msend\u001b[0;34m(self, request, **kwargs)\u001b[0m\n\u001b[1;32m    641\u001b[0m \u001b[0;34m\u001b[0m\u001b[0m\n\u001b[1;32m    642\u001b[0m         \u001b[0;31m# Send the request\u001b[0m\u001b[0;34m\u001b[0m\u001b[0;34m\u001b[0m\u001b[0;34m\u001b[0m\u001b[0m\n\u001b[0;32m--> 643\u001b[0;31m         \u001b[0mr\u001b[0m \u001b[0;34m=\u001b[0m \u001b[0madapter\u001b[0m\u001b[0;34m.\u001b[0m\u001b[0msend\u001b[0m\u001b[0;34m(\u001b[0m\u001b[0mrequest\u001b[0m\u001b[0;34m,\u001b[0m \u001b[0;34m**\u001b[0m\u001b[0mkwargs\u001b[0m\u001b[0;34m)\u001b[0m\u001b[0;34m\u001b[0m\u001b[0;34m\u001b[0m\u001b[0m\n\u001b[0m\u001b[1;32m    644\u001b[0m \u001b[0;34m\u001b[0m\u001b[0m\n\u001b[1;32m    645\u001b[0m         \u001b[0;31m# Total elapsed time of the request (approximately)\u001b[0m\u001b[0;34m\u001b[0m\u001b[0;34m\u001b[0m\u001b[0;34m\u001b[0m\u001b[0m\n",
      "\u001b[0;32m~/opt/anaconda3/lib/python3.8/site-packages/requests/adapters.py\u001b[0m in \u001b[0;36msend\u001b[0;34m(self, request, stream, timeout, verify, cert, proxies)\u001b[0m\n\u001b[1;32m    437\u001b[0m         \u001b[0;32mtry\u001b[0m\u001b[0;34m:\u001b[0m\u001b[0;34m\u001b[0m\u001b[0;34m\u001b[0m\u001b[0m\n\u001b[1;32m    438\u001b[0m             \u001b[0;32mif\u001b[0m \u001b[0;32mnot\u001b[0m \u001b[0mchunked\u001b[0m\u001b[0;34m:\u001b[0m\u001b[0;34m\u001b[0m\u001b[0;34m\u001b[0m\u001b[0m\n\u001b[0;32m--> 439\u001b[0;31m                 resp = conn.urlopen(\n\u001b[0m\u001b[1;32m    440\u001b[0m                     \u001b[0mmethod\u001b[0m\u001b[0;34m=\u001b[0m\u001b[0mrequest\u001b[0m\u001b[0;34m.\u001b[0m\u001b[0mmethod\u001b[0m\u001b[0;34m,\u001b[0m\u001b[0;34m\u001b[0m\u001b[0;34m\u001b[0m\u001b[0m\n\u001b[1;32m    441\u001b[0m                     \u001b[0murl\u001b[0m\u001b[0;34m=\u001b[0m\u001b[0murl\u001b[0m\u001b[0;34m,\u001b[0m\u001b[0;34m\u001b[0m\u001b[0;34m\u001b[0m\u001b[0m\n",
      "\u001b[0;32m~/opt/anaconda3/lib/python3.8/site-packages/urllib3/connectionpool.py\u001b[0m in \u001b[0;36murlopen\u001b[0;34m(self, method, url, body, headers, retries, redirect, assert_same_host, timeout, pool_timeout, release_conn, chunked, body_pos, **response_kw)\u001b[0m\n\u001b[1;32m    668\u001b[0m \u001b[0;34m\u001b[0m\u001b[0m\n\u001b[1;32m    669\u001b[0m             \u001b[0;31m# Make the request on the httplib connection object.\u001b[0m\u001b[0;34m\u001b[0m\u001b[0;34m\u001b[0m\u001b[0;34m\u001b[0m\u001b[0m\n\u001b[0;32m--> 670\u001b[0;31m             httplib_response = self._make_request(\n\u001b[0m\u001b[1;32m    671\u001b[0m                 \u001b[0mconn\u001b[0m\u001b[0;34m,\u001b[0m\u001b[0;34m\u001b[0m\u001b[0;34m\u001b[0m\u001b[0m\n\u001b[1;32m    672\u001b[0m                 \u001b[0mmethod\u001b[0m\u001b[0;34m,\u001b[0m\u001b[0;34m\u001b[0m\u001b[0;34m\u001b[0m\u001b[0m\n",
      "\u001b[0;32m~/opt/anaconda3/lib/python3.8/site-packages/urllib3/connectionpool.py\u001b[0m in \u001b[0;36m_make_request\u001b[0;34m(self, conn, method, url, timeout, chunked, **httplib_request_kw)\u001b[0m\n\u001b[1;32m    424\u001b[0m                     \u001b[0;31m# Python 3 (including for exceptions like SystemExit).\u001b[0m\u001b[0;34m\u001b[0m\u001b[0;34m\u001b[0m\u001b[0;34m\u001b[0m\u001b[0m\n\u001b[1;32m    425\u001b[0m                     \u001b[0;31m# Otherwise it looks like a bug in the code.\u001b[0m\u001b[0;34m\u001b[0m\u001b[0;34m\u001b[0m\u001b[0;34m\u001b[0m\u001b[0m\n\u001b[0;32m--> 426\u001b[0;31m                     \u001b[0msix\u001b[0m\u001b[0;34m.\u001b[0m\u001b[0mraise_from\u001b[0m\u001b[0;34m(\u001b[0m\u001b[0me\u001b[0m\u001b[0;34m,\u001b[0m \u001b[0;32mNone\u001b[0m\u001b[0;34m)\u001b[0m\u001b[0;34m\u001b[0m\u001b[0;34m\u001b[0m\u001b[0m\n\u001b[0m\u001b[1;32m    427\u001b[0m         \u001b[0;32mexcept\u001b[0m \u001b[0;34m(\u001b[0m\u001b[0mSocketTimeout\u001b[0m\u001b[0;34m,\u001b[0m \u001b[0mBaseSSLError\u001b[0m\u001b[0;34m,\u001b[0m \u001b[0mSocketError\u001b[0m\u001b[0;34m)\u001b[0m \u001b[0;32mas\u001b[0m \u001b[0me\u001b[0m\u001b[0;34m:\u001b[0m\u001b[0;34m\u001b[0m\u001b[0;34m\u001b[0m\u001b[0m\n\u001b[1;32m    428\u001b[0m             \u001b[0mself\u001b[0m\u001b[0;34m.\u001b[0m\u001b[0m_raise_timeout\u001b[0m\u001b[0;34m(\u001b[0m\u001b[0merr\u001b[0m\u001b[0;34m=\u001b[0m\u001b[0me\u001b[0m\u001b[0;34m,\u001b[0m \u001b[0murl\u001b[0m\u001b[0;34m=\u001b[0m\u001b[0murl\u001b[0m\u001b[0;34m,\u001b[0m \u001b[0mtimeout_value\u001b[0m\u001b[0;34m=\u001b[0m\u001b[0mread_timeout\u001b[0m\u001b[0;34m)\u001b[0m\u001b[0;34m\u001b[0m\u001b[0;34m\u001b[0m\u001b[0m\n",
      "\u001b[0;32m~/opt/anaconda3/lib/python3.8/site-packages/urllib3/packages/six.py\u001b[0m in \u001b[0;36mraise_from\u001b[0;34m(value, from_value)\u001b[0m\n",
      "\u001b[0;32m~/opt/anaconda3/lib/python3.8/site-packages/urllib3/connectionpool.py\u001b[0m in \u001b[0;36m_make_request\u001b[0;34m(self, conn, method, url, timeout, chunked, **httplib_request_kw)\u001b[0m\n\u001b[1;32m    419\u001b[0m                 \u001b[0;31m# Python 3\u001b[0m\u001b[0;34m\u001b[0m\u001b[0;34m\u001b[0m\u001b[0;34m\u001b[0m\u001b[0m\n\u001b[1;32m    420\u001b[0m                 \u001b[0;32mtry\u001b[0m\u001b[0;34m:\u001b[0m\u001b[0;34m\u001b[0m\u001b[0;34m\u001b[0m\u001b[0m\n\u001b[0;32m--> 421\u001b[0;31m                     \u001b[0mhttplib_response\u001b[0m \u001b[0;34m=\u001b[0m \u001b[0mconn\u001b[0m\u001b[0;34m.\u001b[0m\u001b[0mgetresponse\u001b[0m\u001b[0;34m(\u001b[0m\u001b[0;34m)\u001b[0m\u001b[0;34m\u001b[0m\u001b[0;34m\u001b[0m\u001b[0m\n\u001b[0m\u001b[1;32m    422\u001b[0m                 \u001b[0;32mexcept\u001b[0m \u001b[0mBaseException\u001b[0m \u001b[0;32mas\u001b[0m \u001b[0me\u001b[0m\u001b[0;34m:\u001b[0m\u001b[0;34m\u001b[0m\u001b[0;34m\u001b[0m\u001b[0m\n\u001b[1;32m    423\u001b[0m                     \u001b[0;31m# Remove the TypeError from the exception chain in\u001b[0m\u001b[0;34m\u001b[0m\u001b[0;34m\u001b[0m\u001b[0;34m\u001b[0m\u001b[0m\n",
      "\u001b[0;32m~/opt/anaconda3/lib/python3.8/http/client.py\u001b[0m in \u001b[0;36mgetresponse\u001b[0;34m(self)\u001b[0m\n\u001b[1;32m   1330\u001b[0m         \u001b[0;32mtry\u001b[0m\u001b[0;34m:\u001b[0m\u001b[0;34m\u001b[0m\u001b[0;34m\u001b[0m\u001b[0m\n\u001b[1;32m   1331\u001b[0m             \u001b[0;32mtry\u001b[0m\u001b[0;34m:\u001b[0m\u001b[0;34m\u001b[0m\u001b[0;34m\u001b[0m\u001b[0m\n\u001b[0;32m-> 1332\u001b[0;31m                 \u001b[0mresponse\u001b[0m\u001b[0;34m.\u001b[0m\u001b[0mbegin\u001b[0m\u001b[0;34m(\u001b[0m\u001b[0;34m)\u001b[0m\u001b[0;34m\u001b[0m\u001b[0;34m\u001b[0m\u001b[0m\n\u001b[0m\u001b[1;32m   1333\u001b[0m             \u001b[0;32mexcept\u001b[0m \u001b[0mConnectionError\u001b[0m\u001b[0;34m:\u001b[0m\u001b[0;34m\u001b[0m\u001b[0;34m\u001b[0m\u001b[0m\n\u001b[1;32m   1334\u001b[0m                 \u001b[0mself\u001b[0m\u001b[0;34m.\u001b[0m\u001b[0mclose\u001b[0m\u001b[0;34m(\u001b[0m\u001b[0;34m)\u001b[0m\u001b[0;34m\u001b[0m\u001b[0;34m\u001b[0m\u001b[0m\n",
      "\u001b[0;32m~/opt/anaconda3/lib/python3.8/http/client.py\u001b[0m in \u001b[0;36mbegin\u001b[0;34m(self)\u001b[0m\n\u001b[1;32m    301\u001b[0m         \u001b[0;31m# read until we get a non-100 response\u001b[0m\u001b[0;34m\u001b[0m\u001b[0;34m\u001b[0m\u001b[0;34m\u001b[0m\u001b[0m\n\u001b[1;32m    302\u001b[0m         \u001b[0;32mwhile\u001b[0m \u001b[0;32mTrue\u001b[0m\u001b[0;34m:\u001b[0m\u001b[0;34m\u001b[0m\u001b[0;34m\u001b[0m\u001b[0m\n\u001b[0;32m--> 303\u001b[0;31m             \u001b[0mversion\u001b[0m\u001b[0;34m,\u001b[0m \u001b[0mstatus\u001b[0m\u001b[0;34m,\u001b[0m \u001b[0mreason\u001b[0m \u001b[0;34m=\u001b[0m \u001b[0mself\u001b[0m\u001b[0;34m.\u001b[0m\u001b[0m_read_status\u001b[0m\u001b[0;34m(\u001b[0m\u001b[0;34m)\u001b[0m\u001b[0;34m\u001b[0m\u001b[0;34m\u001b[0m\u001b[0m\n\u001b[0m\u001b[1;32m    304\u001b[0m             \u001b[0;32mif\u001b[0m \u001b[0mstatus\u001b[0m \u001b[0;34m!=\u001b[0m \u001b[0mCONTINUE\u001b[0m\u001b[0;34m:\u001b[0m\u001b[0;34m\u001b[0m\u001b[0;34m\u001b[0m\u001b[0m\n\u001b[1;32m    305\u001b[0m                 \u001b[0;32mbreak\u001b[0m\u001b[0;34m\u001b[0m\u001b[0;34m\u001b[0m\u001b[0m\n",
      "\u001b[0;32m~/opt/anaconda3/lib/python3.8/http/client.py\u001b[0m in \u001b[0;36m_read_status\u001b[0;34m(self)\u001b[0m\n\u001b[1;32m    262\u001b[0m \u001b[0;34m\u001b[0m\u001b[0m\n\u001b[1;32m    263\u001b[0m     \u001b[0;32mdef\u001b[0m \u001b[0m_read_status\u001b[0m\u001b[0;34m(\u001b[0m\u001b[0mself\u001b[0m\u001b[0;34m)\u001b[0m\u001b[0;34m:\u001b[0m\u001b[0;34m\u001b[0m\u001b[0;34m\u001b[0m\u001b[0m\n\u001b[0;32m--> 264\u001b[0;31m         \u001b[0mline\u001b[0m \u001b[0;34m=\u001b[0m \u001b[0mstr\u001b[0m\u001b[0;34m(\u001b[0m\u001b[0mself\u001b[0m\u001b[0;34m.\u001b[0m\u001b[0mfp\u001b[0m\u001b[0;34m.\u001b[0m\u001b[0mreadline\u001b[0m\u001b[0;34m(\u001b[0m\u001b[0m_MAXLINE\u001b[0m \u001b[0;34m+\u001b[0m \u001b[0;36m1\u001b[0m\u001b[0;34m)\u001b[0m\u001b[0;34m,\u001b[0m \u001b[0;34m\"iso-8859-1\"\u001b[0m\u001b[0;34m)\u001b[0m\u001b[0;34m\u001b[0m\u001b[0;34m\u001b[0m\u001b[0m\n\u001b[0m\u001b[1;32m    265\u001b[0m         \u001b[0;32mif\u001b[0m \u001b[0mlen\u001b[0m\u001b[0;34m(\u001b[0m\u001b[0mline\u001b[0m\u001b[0;34m)\u001b[0m \u001b[0;34m>\u001b[0m \u001b[0m_MAXLINE\u001b[0m\u001b[0;34m:\u001b[0m\u001b[0;34m\u001b[0m\u001b[0;34m\u001b[0m\u001b[0m\n\u001b[1;32m    266\u001b[0m             \u001b[0;32mraise\u001b[0m \u001b[0mLineTooLong\u001b[0m\u001b[0;34m(\u001b[0m\u001b[0;34m\"status line\"\u001b[0m\u001b[0;34m)\u001b[0m\u001b[0;34m\u001b[0m\u001b[0;34m\u001b[0m\u001b[0m\n",
      "\u001b[0;32m~/opt/anaconda3/lib/python3.8/socket.py\u001b[0m in \u001b[0;36mreadinto\u001b[0;34m(self, b)\u001b[0m\n\u001b[1;32m    667\u001b[0m         \u001b[0;32mwhile\u001b[0m \u001b[0;32mTrue\u001b[0m\u001b[0;34m:\u001b[0m\u001b[0;34m\u001b[0m\u001b[0;34m\u001b[0m\u001b[0m\n\u001b[1;32m    668\u001b[0m             \u001b[0;32mtry\u001b[0m\u001b[0;34m:\u001b[0m\u001b[0;34m\u001b[0m\u001b[0;34m\u001b[0m\u001b[0m\n\u001b[0;32m--> 669\u001b[0;31m                 \u001b[0;32mreturn\u001b[0m \u001b[0mself\u001b[0m\u001b[0;34m.\u001b[0m\u001b[0m_sock\u001b[0m\u001b[0;34m.\u001b[0m\u001b[0mrecv_into\u001b[0m\u001b[0;34m(\u001b[0m\u001b[0mb\u001b[0m\u001b[0;34m)\u001b[0m\u001b[0;34m\u001b[0m\u001b[0;34m\u001b[0m\u001b[0m\n\u001b[0m\u001b[1;32m    670\u001b[0m             \u001b[0;32mexcept\u001b[0m \u001b[0mtimeout\u001b[0m\u001b[0;34m:\u001b[0m\u001b[0;34m\u001b[0m\u001b[0;34m\u001b[0m\u001b[0m\n\u001b[1;32m    671\u001b[0m                 \u001b[0mself\u001b[0m\u001b[0;34m.\u001b[0m\u001b[0m_timeout_occurred\u001b[0m \u001b[0;34m=\u001b[0m \u001b[0;32mTrue\u001b[0m\u001b[0;34m\u001b[0m\u001b[0;34m\u001b[0m\u001b[0m\n",
      "\u001b[0;32m~/opt/anaconda3/lib/python3.8/ssl.py\u001b[0m in \u001b[0;36mrecv_into\u001b[0;34m(self, buffer, nbytes, flags)\u001b[0m\n\u001b[1;32m   1239\u001b[0m                   \u001b[0;34m\"non-zero flags not allowed in calls to recv_into() on %s\"\u001b[0m \u001b[0;34m%\u001b[0m\u001b[0;34m\u001b[0m\u001b[0;34m\u001b[0m\u001b[0m\n\u001b[1;32m   1240\u001b[0m                   self.__class__)\n\u001b[0;32m-> 1241\u001b[0;31m             \u001b[0;32mreturn\u001b[0m \u001b[0mself\u001b[0m\u001b[0;34m.\u001b[0m\u001b[0mread\u001b[0m\u001b[0;34m(\u001b[0m\u001b[0mnbytes\u001b[0m\u001b[0;34m,\u001b[0m \u001b[0mbuffer\u001b[0m\u001b[0;34m)\u001b[0m\u001b[0;34m\u001b[0m\u001b[0;34m\u001b[0m\u001b[0m\n\u001b[0m\u001b[1;32m   1242\u001b[0m         \u001b[0;32melse\u001b[0m\u001b[0;34m:\u001b[0m\u001b[0;34m\u001b[0m\u001b[0;34m\u001b[0m\u001b[0m\n\u001b[1;32m   1243\u001b[0m             \u001b[0;32mreturn\u001b[0m \u001b[0msuper\u001b[0m\u001b[0;34m(\u001b[0m\u001b[0;34m)\u001b[0m\u001b[0;34m.\u001b[0m\u001b[0mrecv_into\u001b[0m\u001b[0;34m(\u001b[0m\u001b[0mbuffer\u001b[0m\u001b[0;34m,\u001b[0m \u001b[0mnbytes\u001b[0m\u001b[0;34m,\u001b[0m \u001b[0mflags\u001b[0m\u001b[0;34m)\u001b[0m\u001b[0;34m\u001b[0m\u001b[0;34m\u001b[0m\u001b[0m\n",
      "\u001b[0;32m~/opt/anaconda3/lib/python3.8/ssl.py\u001b[0m in \u001b[0;36mread\u001b[0;34m(self, len, buffer)\u001b[0m\n\u001b[1;32m   1097\u001b[0m         \u001b[0;32mtry\u001b[0m\u001b[0;34m:\u001b[0m\u001b[0;34m\u001b[0m\u001b[0;34m\u001b[0m\u001b[0m\n\u001b[1;32m   1098\u001b[0m             \u001b[0;32mif\u001b[0m \u001b[0mbuffer\u001b[0m \u001b[0;32mis\u001b[0m \u001b[0;32mnot\u001b[0m \u001b[0;32mNone\u001b[0m\u001b[0;34m:\u001b[0m\u001b[0;34m\u001b[0m\u001b[0;34m\u001b[0m\u001b[0m\n\u001b[0;32m-> 1099\u001b[0;31m                 \u001b[0;32mreturn\u001b[0m \u001b[0mself\u001b[0m\u001b[0;34m.\u001b[0m\u001b[0m_sslobj\u001b[0m\u001b[0;34m.\u001b[0m\u001b[0mread\u001b[0m\u001b[0;34m(\u001b[0m\u001b[0mlen\u001b[0m\u001b[0;34m,\u001b[0m \u001b[0mbuffer\u001b[0m\u001b[0;34m)\u001b[0m\u001b[0;34m\u001b[0m\u001b[0;34m\u001b[0m\u001b[0m\n\u001b[0m\u001b[1;32m   1100\u001b[0m             \u001b[0;32melse\u001b[0m\u001b[0;34m:\u001b[0m\u001b[0;34m\u001b[0m\u001b[0;34m\u001b[0m\u001b[0m\n\u001b[1;32m   1101\u001b[0m                 \u001b[0;32mreturn\u001b[0m \u001b[0mself\u001b[0m\u001b[0;34m.\u001b[0m\u001b[0m_sslobj\u001b[0m\u001b[0;34m.\u001b[0m\u001b[0mread\u001b[0m\u001b[0;34m(\u001b[0m\u001b[0mlen\u001b[0m\u001b[0;34m)\u001b[0m\u001b[0;34m\u001b[0m\u001b[0;34m\u001b[0m\u001b[0m\n",
      "\u001b[0;31mKeyboardInterrupt\u001b[0m: "
     ]
    }
   ],
   "source": [
    "while True:\n",
    "    R = S.get(url=URL, params=PARAMS).json()\n",
    "    print (R['query']['search'])#(len(R['query']['search'][0]['snippet'])) \n",
    "    soup = BeautifulSoup(R['query']['search'][0]['snippet'])\n",
    "    print(soup.get_text())\n",
    "    print('##################')\n",
    "    #TODO: continue only if the exact term is matched\n",
    "    if 'continue' in R:\n",
    "        PARAMS.update(R['continue'])\n",
    "    else:\n",
    "        break"
   ]
  },
  {
   "cell_type": "code",
   "execution_count": null,
   "metadata": {},
   "outputs": [],
   "source": []
  }
 ],
 "metadata": {
  "kernelspec": {
   "display_name": "Python 3",
   "language": "python",
   "name": "python3"
  },
  "language_info": {
   "codemirror_mode": {
    "name": "ipython",
    "version": 3
   },
   "file_extension": ".py",
   "mimetype": "text/x-python",
   "name": "python",
   "nbconvert_exporter": "python",
   "pygments_lexer": "ipython3",
   "version": "3.8.3-final"
  }
 },
 "nbformat": 4,
 "nbformat_minor": 4
}